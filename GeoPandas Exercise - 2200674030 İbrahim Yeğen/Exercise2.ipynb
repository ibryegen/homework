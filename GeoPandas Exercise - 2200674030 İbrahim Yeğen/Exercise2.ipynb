{
 "cells": [
  {
   "cell_type": "markdown",
   "metadata": {},
   "source": [
    "## Problem 2: Points to map (30 points)\n",
    " \n",
    "The problem 2 continues the process that we started in Exercise 1, i.e. creating geometric point -objects and putting them into a map. \n",
    "\n",
    "**In this problem, our aim is to plot a map based on a set of longitude and latitude coordinates that are stored in a csv file.** \n",
    "The coordinates are in WGS84 decimal degrees, and the data is stored in `some_posts.csv` comma separated file in the folder `data`. You can also find the same data from the GitHub address: https://raw.githubusercontent.com/GeoTurkey/GMT_COURSES/main/some_posts.csv\n",
    "\n",
    "First rows of the data look like this:\n",
    " \n",
    "```\n",
    "lat,lon,timestamp,userid\n",
    "-24.980792492,31.484633302,2015-07-07 03:02,66487960\n",
    "-25.499224667,31.508905612,2015-07-07 03:18,65281761\n",
    "-24.342578456,30.930866066,2015-03-07 03:38,90916112\n",
    "-24.85461393,31.519718439,2015-10-07 05:04,37959089\n",
    "```\n",
    "\n",
    "The data has 81379 rows and consists of locations and times of social media posts inside Kruger national park in South Africa:\n",
    "\n",
    "| Column | Description |\n",
    "|--------|-------------|\n",
    "| lat | y-coordinate of the post |\n",
    "| lon | x-coordinate of the post |\n",
    "| timestamp | Time when the post was uploaded |\n",
    "| userid | userid |\n",
    "\n",
    "*Note: although the data is based on real social media data, it is heavily anonymized. Userids and timestamps have been randomized, i.e. they do not not match with real ones, also spatial accuracy of the data have been lowered.*\n",
    "\n",
    "**First:**\n",
    "\n",
    "- Import the needed modules\n",
    "- Read the data from `data/some_posts.csv` into a Pandas dataframe called `data`\n",
    "- Create an empty column called `geometry` where you will store shapely Point objects\n",
    "- Insert Point objects into the column `geometry` based on the coordinate columns \n",
    "\n",
    "**HINTS:**\n",
    "\n",
    "You want to create a Shapely point *on each row*, based on columns `'lon'` and `'lat'`. You can achieve this by using a `for`-loop and `.iterrows()` but this approach will be extremely slow! In stead, we recommend that you try one of these approaches:\n",
    "\n",
    "- `zip` lon and lat columns and create the points using a for-loop (loop over the zipped object), OR\n",
    "- use the [apply method](https://pandas.pydata.org/pandas-docs/stable/reference/api/pandas.DataFrame.apply.html) to apply the shapely Point constructor on each row. \n",
    "- more hints in the on [here](https://automating-gis-processes.github.io/site/lessons/L2/exercise-2.html).\n",
    "\n",
    "\n",
    "\n"
   ]
  },
  {
   "cell_type": "code",
   "execution_count": 28,
   "metadata": {},
   "outputs": [],
   "source": [
    "import os\n",
    "import geopandas as gpd\n",
    "import matplotlib.pyplot as plt\n",
    "from shapely.geometry import Polygon, Point\n",
    "import pandas as pd\n",
    "from pyproj import CRS\n",
    "from shapely import wkt"
   ]
  },
  {
   "cell_type": "code",
   "execution_count": 30,
   "metadata": {
    "deletable": false,
    "jupyter": {
     "outputs_hidden": false
    },
    "nbgrader": {
     "cell_type": "code",
     "checksum": "cfbdcbc0eb3fbecf91c3f16d70d206f5",
     "grade": false,
     "grade_id": "Create_points",
     "locked": false,
     "schema_version": 3,
     "solution": true
    }
   },
   "outputs": [
    {
     "name": "stderr",
     "output_type": "stream",
     "text": [
      "C:\\Users\\IBRAHIM YEGEN\\anaconda3\\envs\\gmtx\\lib\\site-packages\\pandas\\core\\dtypes\\cast.py:122: ShapelyDeprecationWarning: The array interface is deprecated and will no longer work in Shapely 2.0. Convert the '.coords' to a numpy array instead.\n",
      "  arr = construct_1d_object_array_from_listlike(values)\n"
     ]
    }
   ],
   "source": [
    "# YOUR CODE HERE\n",
    "data = pd.read_csv(\"https://raw.githubusercontent.com/GeoTurkey/GMT_COURSES/main/some_posts.csv\")\n",
    "\n",
    "def create_point(row):\n",
    "    point = Point(row['lon'], row['lat'])\n",
    "\n",
    "    return point\n",
    "data['geometry'] = data.apply(create_point, axis=1)\n"
   ]
  },
  {
   "cell_type": "code",
   "execution_count": 31,
   "metadata": {},
   "outputs": [
    {
     "data": {
      "text/html": [
       "<div>\n",
       "<style scoped>\n",
       "    .dataframe tbody tr th:only-of-type {\n",
       "        vertical-align: middle;\n",
       "    }\n",
       "\n",
       "    .dataframe tbody tr th {\n",
       "        vertical-align: top;\n",
       "    }\n",
       "\n",
       "    .dataframe thead th {\n",
       "        text-align: right;\n",
       "    }\n",
       "</style>\n",
       "<table border=\"1\" class=\"dataframe\">\n",
       "  <thead>\n",
       "    <tr style=\"text-align: right;\">\n",
       "      <th></th>\n",
       "      <th>lat</th>\n",
       "      <th>lon</th>\n",
       "      <th>timestamp</th>\n",
       "      <th>userid</th>\n",
       "      <th>geometry</th>\n",
       "    </tr>\n",
       "  </thead>\n",
       "  <tbody>\n",
       "    <tr>\n",
       "      <th>0</th>\n",
       "      <td>-24.980792</td>\n",
       "      <td>31.484633</td>\n",
       "      <td>2015-07-07 03:02</td>\n",
       "      <td>66487960</td>\n",
       "      <td>POINT (31.484633302 -24.980792492)</td>\n",
       "    </tr>\n",
       "    <tr>\n",
       "      <th>1</th>\n",
       "      <td>-25.499225</td>\n",
       "      <td>31.508906</td>\n",
       "      <td>2015-07-07 03:18</td>\n",
       "      <td>65281761</td>\n",
       "      <td>POINT (31.508905612 -25.499224667)</td>\n",
       "    </tr>\n",
       "    <tr>\n",
       "      <th>2</th>\n",
       "      <td>-24.342578</td>\n",
       "      <td>30.930866</td>\n",
       "      <td>2015-03-07 03:38</td>\n",
       "      <td>90916112</td>\n",
       "      <td>POINT (30.930866066 -24.342578456)</td>\n",
       "    </tr>\n",
       "    <tr>\n",
       "      <th>3</th>\n",
       "      <td>-24.854614</td>\n",
       "      <td>31.519718</td>\n",
       "      <td>2015-10-07 05:04</td>\n",
       "      <td>37959089</td>\n",
       "      <td>POINT (31.519718439 -24.85461393)</td>\n",
       "    </tr>\n",
       "    <tr>\n",
       "      <th>4</th>\n",
       "      <td>-24.921069</td>\n",
       "      <td>31.520836</td>\n",
       "      <td>2015-10-07 05:19</td>\n",
       "      <td>27793716</td>\n",
       "      <td>POINT (31.520835558 -24.921068894)</td>\n",
       "    </tr>\n",
       "    <tr>\n",
       "      <th>...</th>\n",
       "      <td>...</td>\n",
       "      <td>...</td>\n",
       "      <td>...</td>\n",
       "      <td>...</td>\n",
       "      <td>...</td>\n",
       "    </tr>\n",
       "    <tr>\n",
       "      <th>81374</th>\n",
       "      <td>-24.799541</td>\n",
       "      <td>31.354469</td>\n",
       "      <td>2015-09-05 02:23</td>\n",
       "      <td>90744213</td>\n",
       "      <td>POINT (31.354468659 -24.79954083)</td>\n",
       "    </tr>\n",
       "    <tr>\n",
       "      <th>81375</th>\n",
       "      <td>-25.467992</td>\n",
       "      <td>30.956033</td>\n",
       "      <td>2015-02-05 02:40</td>\n",
       "      <td>71109799</td>\n",
       "      <td>POINT (30.956033333 -25.467991667)</td>\n",
       "    </tr>\n",
       "    <tr>\n",
       "      <th>81376</th>\n",
       "      <td>-25.332223</td>\n",
       "      <td>30.997409</td>\n",
       "      <td>2015-08-05 02:40</td>\n",
       "      <td>54796261</td>\n",
       "      <td>POINT (30.997408647 -25.332223289)</td>\n",
       "    </tr>\n",
       "    <tr>\n",
       "      <th>81377</th>\n",
       "      <td>-25.508851</td>\n",
       "      <td>31.005536</td>\n",
       "      <td>2015-08-05 02:43</td>\n",
       "      <td>78762204</td>\n",
       "      <td>POINT (31.00553607 -25.508851029)</td>\n",
       "    </tr>\n",
       "    <tr>\n",
       "      <th>81378</th>\n",
       "      <td>-25.498840</td>\n",
       "      <td>31.007430</td>\n",
       "      <td>2015-04-05 02:44</td>\n",
       "      <td>32190273</td>\n",
       "      <td>POINT (31.00743 -25.49884)</td>\n",
       "    </tr>\n",
       "  </tbody>\n",
       "</table>\n",
       "<p>81379 rows × 5 columns</p>\n",
       "</div>"
      ],
      "text/plain": [
       "             lat        lon         timestamp    userid  \\\n",
       "0     -24.980792  31.484633  2015-07-07 03:02  66487960   \n",
       "1     -25.499225  31.508906  2015-07-07 03:18  65281761   \n",
       "2     -24.342578  30.930866  2015-03-07 03:38  90916112   \n",
       "3     -24.854614  31.519718  2015-10-07 05:04  37959089   \n",
       "4     -24.921069  31.520836  2015-10-07 05:19  27793716   \n",
       "...          ...        ...               ...       ...   \n",
       "81374 -24.799541  31.354469  2015-09-05 02:23  90744213   \n",
       "81375 -25.467992  30.956033  2015-02-05 02:40  71109799   \n",
       "81376 -25.332223  30.997409  2015-08-05 02:40  54796261   \n",
       "81377 -25.508851  31.005536  2015-08-05 02:43  78762204   \n",
       "81378 -25.498840  31.007430  2015-04-05 02:44  32190273   \n",
       "\n",
       "                                 geometry  \n",
       "0      POINT (31.484633302 -24.980792492)  \n",
       "1      POINT (31.508905612 -25.499224667)  \n",
       "2      POINT (30.930866066 -24.342578456)  \n",
       "3       POINT (31.519718439 -24.85461393)  \n",
       "4      POINT (31.520835558 -24.921068894)  \n",
       "...                                   ...  \n",
       "81374   POINT (31.354468659 -24.79954083)  \n",
       "81375  POINT (30.956033333 -25.467991667)  \n",
       "81376  POINT (30.997408647 -25.332223289)  \n",
       "81377   POINT (31.00553607 -25.508851029)  \n",
       "81378          POINT (31.00743 -25.49884)  \n",
       "\n",
       "[81379 rows x 5 columns]"
      ]
     },
     "execution_count": 31,
     "metadata": {},
     "output_type": "execute_result"
    }
   ],
   "source": [
    "data"
   ]
  },
  {
   "cell_type": "code",
   "execution_count": 32,
   "metadata": {
    "deletable": false,
    "editable": false,
    "jupyter": {
     "outputs_hidden": false
    },
    "nbgrader": {
     "cell_type": "code",
     "checksum": "ded5e9897fdfa8e5d23664937918cb8f",
     "grade": true,
     "grade_id": "problem_2_input_test",
     "locked": true,
     "points": 1,
     "schema_version": 3,
     "solution": false
    }
   },
   "outputs": [
    {
     "name": "stdout",
     "output_type": "stream",
     "text": [
      "Number of rows: 81379\n"
     ]
    }
   ],
   "source": [
    "# NON-EDITABLE CODE CELL FOR TESTING YOUR SOLUTION\n",
    "print(\"Number of rows:\", len(data))"
   ]
  },
  {
   "cell_type": "code",
   "execution_count": 33,
   "metadata": {
    "deletable": false,
    "editable": false,
    "nbgrader": {
     "cell_type": "code",
     "checksum": "ed054b54d33345b3091ba68380bd3d81",
     "grade": true,
     "grade_id": "problem_2_create_points_test",
     "locked": true,
     "points": 3,
     "schema_version": 3,
     "solution": false,
     "task": false
    }
   },
   "outputs": [
    {
     "name": "stdout",
     "output_type": "stream",
     "text": [
      "0    POINT (31.484633302 -24.980792492)\n",
      "1    POINT (31.508905612 -25.499224667)\n",
      "2    POINT (30.930866066 -24.342578456)\n",
      "3     POINT (31.519718439 -24.85461393)\n",
      "4    POINT (31.520835558 -24.921068894)\n",
      "Name: geometry, dtype: object\n"
     ]
    }
   ],
   "source": [
    "# NON-EDITABLE CODE CELL FOR TESTING YOUR SOLUTION\n",
    "print(data['geometry'].head())"
   ]
  },
  {
   "cell_type": "markdown",
   "metadata": {},
   "source": [
    "**Next, save the result as a shapefile:**\n",
    "- Convert that DataFrame into a GeoDataFrame called `geo`, [See hints](https://automating-gis-processes.github.io/site/lessons/L2/exercise-2.html)\n",
    "\n",
    "- Update the CRS for coordinate system as WGS84 (i.e. epsg code: 4326) **in the WKT format**\n",
    "\n",
    "- Save output to file: `Kruger_posts.shp`\n",
    "\n"
   ]
  },
  {
   "cell_type": "code",
   "execution_count": 34,
   "metadata": {
    "deletable": false,
    "jupyter": {
     "outputs_hidden": false
    },
    "nbgrader": {
     "cell_type": "code",
     "checksum": "b673d7fdfc4262e68f67e61e29815c21",
     "grade": false,
     "grade_id": "Create_geodataframe",
     "locked": false,
     "schema_version": 3,
     "solution": true
    }
   },
   "outputs": [],
   "source": [
    "# YOUR CODE HERE\n",
    "geo = gpd.GeoDataFrame(data, geometry='geometry', crs=CRS.from_epsg(4326).to_wkt())\n"
   ]
  },
  {
   "cell_type": "code",
   "execution_count": 35,
   "metadata": {},
   "outputs": [
    {
     "name": "stderr",
     "output_type": "stream",
     "text": [
      "C:\\Users\\IBRAHIM YEGEN\\anaconda3\\envs\\gmtx\\lib\\site-packages\\geopandas\\io\\file.py:362: FutureWarning: pandas.Int64Index is deprecated and will be removed from pandas in a future version. Use pandas.Index with the appropriate dtype instead.\n",
      "  pd.Int64Index,\n"
     ]
    }
   ],
   "source": [
    "# SAVE OUTPUT TO FILE\n",
    "fp = \"Kruger_posts.shp\"\n",
    "geo.to_file(\"Kruger_posts.shp\")\n"
   ]
  },
  {
   "cell_type": "code",
   "execution_count": 36,
   "metadata": {
    "deletable": false,
    "editable": false,
    "jupyter": {
     "outputs_hidden": false
    },
    "nbgrader": {
     "cell_type": "code",
     "checksum": "b6ab75900cf70f553433d0b54fcacfc4",
     "grade": true,
     "grade_id": "problem_2_create_geodataframe_test",
     "locked": true,
     "points": 1.5,
     "schema_version": 3,
     "solution": false
    }
   },
   "outputs": [
    {
     "name": "stdout",
     "output_type": "stream",
     "text": [
      "Number of rows: 81379\n",
      "         lat        lon         timestamp    userid  \\\n",
      "0 -24.980792  31.484633  2015-07-07 03:02  66487960   \n",
      "1 -25.499225  31.508906  2015-07-07 03:18  65281761   \n",
      "2 -24.342578  30.930866  2015-03-07 03:38  90916112   \n",
      "3 -24.854614  31.519718  2015-10-07 05:04  37959089   \n",
      "4 -24.921069  31.520836  2015-10-07 05:19  27793716   \n",
      "\n",
      "                     geometry  \n",
      "0  POINT (31.48463 -24.98079)  \n",
      "1  POINT (31.50891 -25.49922)  \n",
      "2  POINT (30.93087 -24.34258)  \n",
      "3  POINT (31.51972 -24.85461)  \n",
      "4  POINT (31.52084 -24.92107)  \n"
     ]
    }
   ],
   "source": [
    "# NON-EDITABLE CODE CELL FOR TESTING YOUR SOLUTION\n",
    "print(\"Number of rows:\", len(geo))\n",
    "print(geo.head())"
   ]
  },
  {
   "cell_type": "code",
   "execution_count": 37,
   "metadata": {
    "deletable": false,
    "editable": false,
    "nbgrader": {
     "cell_type": "code",
     "checksum": "bcfb73950b7e0b3ee2b200b8ec6bd4a7",
     "grade": true,
     "grade_id": "problem_2_outputfile_test",
     "locked": true,
     "points": 0.5,
     "schema_version": 3,
     "solution": false,
     "task": false
    }
   },
   "outputs": [],
   "source": [
    "# NON-EDITABLE CODE CELL FOR TESTING YOUR SOLUTION\n",
    "import os\n",
    "assert os.path.isfile(fp), \"output shapefile does not exist\""
   ]
  },
  {
   "cell_type": "markdown",
   "metadata": {},
   "source": [
    "**Finally:** \n",
    "- **Create a simple map of the points** using the `geodataframe.plot()` -funtion. You might need to use the `matplotlib pyplot` `show()` method to display the image within this notebook. "
   ]
  },
  {
   "cell_type": "code",
   "execution_count": 39,
   "metadata": {
    "deletable": false,
    "jupyter": {
     "outputs_hidden": false
    },
    "nbgrader": {
     "cell_type": "code",
     "checksum": "57671c7a6ee0d0777f0e250596b8769c",
     "grade": false,
     "grade_id": "Plot_map",
     "locked": false,
     "schema_version": 3,
     "solution": true
    }
   },
   "outputs": [
    {
     "data": {
      "text/plain": [
       "<AxesSubplot:>"
      ]
     },
     "execution_count": 39,
     "metadata": {},
     "output_type": "execute_result"
    },
    {
     "data": {
      "image/png": "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\n",
      "text/plain": [
       "<Figure size 1152x648 with 1 Axes>"
      ]
     },
     "metadata": {
      "needs_background": "light"
     },
     "output_type": "display_data"
    }
   ],
   "source": [
    "# YOUR CODE HERE\n",
    "geo.plot(figsize=(16,9))\n"
   ]
  },
  {
   "cell_type": "markdown",
   "metadata": {},
   "source": [
    "Well done! Now you can move on to [Exercise3.ipynb](Exercise3.ipynb)"
   ]
  },
  {
   "cell_type": "raw",
   "metadata": {
    "deletable": false,
    "jupyter": {
     "outputs_hidden": false
    },
    "nbgrader": {
     "cell_type": "markdown",
     "checksum": "949f19509d01c239d0e1b7b1eb38dff9",
     "grade": true,
     "grade_id": "problem_2_plot_map_check",
     "locked": false,
     "points": 1,
     "schema_version": 3,
     "solution": true
    }
   },
   "source": []
  }
 ],
 "metadata": {
  "anaconda-cloud": {},
  "kernelspec": {
   "display_name": "Python 3 (ipykernel)",
   "language": "python",
   "name": "python3"
  },
  "language_info": {
   "codemirror_mode": {
    "name": "ipython",
    "version": 3
   },
   "file_extension": ".py",
   "mimetype": "text/x-python",
   "name": "python",
   "nbconvert_exporter": "python",
   "pygments_lexer": "ipython3",
   "version": "3.10.4"
  }
 },
 "nbformat": 4,
 "nbformat_minor": 4
}


import matplotlib.pyplot as plt

coords = []

with open('line.txt', 'r') as f:
    for line in f:
        x, y = map(float, line.split())
        coords.append((x,y))
        
    

def perpendicular_d(coord, start, end):
    
    x0, y0 = coord
    x1, y1 = start
    x2, y2 = end
    
    denominator = ((x2-x1)**2 + (y2-y1)**2) **0.5
    
    if denominator ==0:
        return 0 # on line 
    return abs((y2-y1) * x0 - (x2-x1) * y0 + x2 * y1 -y2 * x1) / denominator


def douglas_peucker(coords, epsilon):
    d_max = 0
    index = 0
    
    for i in range(1, len(coords) - 1):
        
        d = perpendicular_d(coords[i], coords[0], coords[-1])
        print(d, coords[i])
        if  d > d_max:
            index = i
            d_max = d
    
    if d_max > epsilon:
        result1 = douglas_peucker(coords[:index+1], epsilon)
        result2 = douglas_peucker(coords[index:], epsilon)
        result = result1 + result2
    else:
        result = [coords[0], coords[-1]]
    return result

    
app = douglas_peucker(coords, 5.8)
print("Nodes:", app)
print("Start point:", app[0], "End point:", app[-1])



# x, y = zip(*coords)

# plt.plot(x, y, 'o-')
# plt.xlabel('x')
# plt.ylabel('y')
# plt.title("Coordinates")
# plt.show()

# x, y = zip(*app)

# plt.plot(x, y, 'o-', color="red")
# plt.xlabel('x')
# plt.ylabel('y')
# plt.title("Shortest Distance")
# plt.show()


x_coords = [p[0] for p in coords]
y_coords = [p[1] for p in coords]

simplified_x_coords = [p[0] for p in app]
simplified_y_coords = [p[1] for p in app]

fig, ax = plt.subplots()

ax.plot(x_coords, y_coords, 'r-', linewidth=1, label="Coordinates")

ax.plot(simplified_x_coords, simplified_y_coords, 'g-', linewidth=2, label="Shortes Distance- DPA")
ax.set_xlabel('x')
ax.set_ylabel('y')
plt.legend()
plt.show()
            
        
    

    
